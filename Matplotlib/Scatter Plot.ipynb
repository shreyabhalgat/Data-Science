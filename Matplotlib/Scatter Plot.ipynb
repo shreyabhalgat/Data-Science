{
 "cells": [
  {
   "cell_type": "markdown",
   "metadata": {},
   "source": [
    "# Scatter Plot\n",
    "\n",
    "- plt.scatter()\n",
    "- scatters data points across x and y axis"
   ]
  },
  {
   "cell_type": "code",
   "execution_count": 1,
   "metadata": {},
   "outputs": [],
   "source": [
    "import matplotlib.pyplot as plt\n",
    "import numpy as np\n"
   ]
  },
  {
   "cell_type": "code",
   "execution_count": 7,
   "metadata": {},
   "outputs": [
    {
     "data": {
      "image/png": "[encoded data removed]",
      "text/plain": [
       "<Figure size 432x432 with 1 Axes>"
      ]
     },
     "metadata": {
      "needs_background": "light"
     },
     "output_type": "display_data"
    }
   ],
   "source": [
    "\n",
    "plt.figure(figsize=(6,6))\n",
    "x=np.arange(10)**2\n",
    "y1=2*x+5\n",
    "y2=x*x+6\n",
    "plt.scatter(x,y1,color=\"red\",label=\"iphone\")\n",
    "plt.scatter(x,y2,color=\"green\",label=\"android\")\n",
    "plt.xlabel(\"Time\")\n",
    "plt.ylabel(\"Price\")\n",
    "plt.title(\"Prices of cellphone over a time using scatter plot\")\n",
    "plt.legend()\n",
    "\n",
    "plt.show()\n"
   ]
  },
  {
   "cell_type": "code",
   "execution_count": 10,
   "metadata": {},
   "outputs": [
    {
     "data": {
      "text/plain": [
       "array([[-0.17001356,  0.52960293],\n",
       "       [ 0.23379592,  0.5863708 ],\n",
       "       [-0.2075087 , -0.31535124],\n",
       "       [-1.75049275, -0.2543596 ],\n",
       "       [ 0.16858564, -0.71863451],\n",
       "       [ 1.2662498 ,  1.95873686],\n",
       "       [-0.11504671, -0.29622122],\n",
       "       [-0.3377335 , -0.41873578],\n",
       "       [ 0.92416005, -1.0846068 ],\n",
       "       [-0.56523209, -1.47348205],\n",
       "       [-1.07195049, -0.53371256],\n",
       "       [ 1.83793083, -1.02541785],\n",
       "       [ 0.53472416, -0.07071453],\n",
       "       [ 3.02934434,  1.31472373],\n",
       "       [ 0.82376231, -0.46703494],\n",
       "       [ 1.77139597, -0.67561459],\n",
       "       [ 0.18210324,  0.75464625],\n",
       "       [ 0.75809996,  1.32057164],\n",
       "       [ 1.41676217,  0.33194929],\n",
       "       [-1.22895539, -1.29017319],\n",
       "       [ 2.22111038,  1.46774752],\n",
       "       [ 1.1718766 , -0.0312944 ],\n",
       "       [-0.74774596, -0.6279049 ],\n",
       "       [-0.3829135 ,  1.07693276],\n",
       "       [-1.67804738, -0.53759901],\n",
       "       [-0.02269551,  0.40520228],\n",
       "       [-0.22924228,  0.23643503],\n",
       "       [ 0.37695876,  0.1363194 ],\n",
       "       [ 2.15028406,  1.46570557],\n",
       "       [ 0.65567514, -0.78324905],\n",
       "       [-0.14043211, -0.86946166],\n",
       "       [-0.46611116, -0.01326965],\n",
       "       [-0.13298381,  0.47493743],\n",
       "       [-1.38367449,  0.56069009],\n",
       "       [-1.05574973,  0.1901779 ],\n",
       "       [ 1.75275735, -1.09762055],\n",
       "       [-1.04386965,  1.91741106],\n",
       "       [-0.35784184, -0.74848919],\n",
       "       [ 0.8520582 ,  1.82720777],\n",
       "       [ 0.8150925 , -1.17276669],\n",
       "       [ 0.70813571, -1.22968743],\n",
       "       [-0.35870058, -0.30531516],\n",
       "       [ 0.975561  ,  0.72048944],\n",
       "       [ 0.55307633,  1.92003031],\n",
       "       [ 0.47995558,  0.45898411],\n",
       "       [ 0.25097475,  0.54777465],\n",
       "       [ 0.549615  ,  2.11939678],\n",
       "       [-0.29553173,  2.12604246],\n",
       "       [-2.17664258, -0.71600365],\n",
       "       [ 0.28378009, -0.42174402],\n",
       "       [-0.86815601, -0.52386386],\n",
       "       [ 0.00840888,  1.24832288],\n",
       "       [-0.63394839,  0.42124271],\n",
       "       [ 0.05801466, -0.96304835],\n",
       "       [ 1.07474734,  0.57382687],\n",
       "       [-1.05318347,  2.62930023],\n",
       "       [ 1.12053885,  0.6379889 ],\n",
       "       [-1.99525579, -0.42933331],\n",
       "       [-0.34053605,  0.56384653],\n",
       "       [-0.94278202,  0.97970133],\n",
       "       [ 2.22459968,  0.46619229],\n",
       "       [-0.36074895, -1.64704975],\n",
       "       [-1.39672286, -0.14481589],\n",
       "       [ 0.13766435, -0.51498926],\n",
       "       [ 0.44937888, -0.25347183],\n",
       "       [-1.75085073, -1.32782601],\n",
       "       [-0.79647757, -2.24502596],\n",
       "       [ 1.34786025,  0.10713585],\n",
       "       [ 1.14956482, -1.08880019],\n",
       "       [ 0.63229714, -0.08219364],\n",
       "       [-0.13638941,  0.99754534],\n",
       "       [ 1.46526188, -2.00764438],\n",
       "       [ 0.72620448, -0.09929158],\n",
       "       [-0.09469494,  0.33461776],\n",
       "       [-0.17080142,  0.52312725],\n",
       "       [ 0.13033435, -0.63556404],\n",
       "       [-0.82587641,  0.04994225],\n",
       "       [ 1.32474526, -1.1527297 ],\n",
       "       [-0.14781692,  1.01169152],\n",
       "       [-1.76187642,  0.50238305],\n",
       "       [-1.24850816, -0.66156512],\n",
       "       [-0.51591126,  0.77028483],\n",
       "       [ 0.7719787 ,  1.05498356],\n",
       "       [ 0.13157701, -0.4478262 ],\n",
       "       [-0.38522597, -0.57128638],\n",
       "       [-0.04684587, -0.25922897],\n",
       "       [-2.56543054, -0.67305224],\n",
       "       [-3.38934636,  0.02364937],\n",
       "       [-0.55932447,  1.51095637],\n",
       "       [-1.08546458,  0.03684387],\n",
       "       [-0.67220522, -1.0528988 ],\n",
       "       [ 0.26292937, -0.66199818],\n",
       "       [-0.08950242,  0.66077626],\n",
       "       [ 1.18313848, -0.44827762],\n",
       "       [-3.61553439, -0.55749883],\n",
       "       [ 0.4905847 , -0.70691175],\n",
       "       [ 1.51433702, -1.35119475],\n",
       "       [-0.15893013, -1.51145799],\n",
       "       [ 0.56972886,  0.79661149],\n",
       "       [ 0.16644622,  1.4285098 ]])"
      ]
     },
     "execution_count": 10,
     "metadata": {},
     "output_type": "execute_result"
    }
   ],
   "source": [
    "data=np.random.randn(100,2)\n",
    "data"
   ]
  },
  {
   "cell_type": "code",
   "execution_count": 11,
   "metadata": {},
   "outputs": [
    {
     "data": {
      "text/plain": [
       "<matplotlib.collections.PathCollection at 0x2053f9d66d0>"
      ]
     },
     "execution_count": 11,
     "metadata": {},
     "output_type": "execute_result"
    },
    {
     "data": {
      "image/png": "[encoded data removed]",
      "text/plain": [
       "<Figure size 432x288 with 1 Axes>"
      ]
     },
     "metadata": {
      "needs_background": "light"
     },
     "output_type": "display_data"
    }
   ],
   "source": [
    "plt.scatter(x=data[:,0],y=data[:,1])"
   ]
  },
  {
   "cell_type": "code",
   "execution_count": null,
   "metadata": {},
   "outputs": [],
   "source": []
  },
  {
   "cell_type": "code",
   "execution_count": null,
   "metadata": {},
   "outputs": [],
   "source": []
  },
  {
   "cell_type": "code",
   "execution_count": null,
   "metadata": {},
   "outputs": [],
   "source": []
  }
 ],
 "metadata": {
  "kernelspec": {
   "display_name": "Python 3.9.2 64-bit",
   "language": "python",
   "name": "python3"
  },
  "language_info": {
   "codemirror_mode": {
    "name": "ipython",
    "version": 3
   },
   "file_extension": ".py",
   "mimetype": "text/x-python",
   "name": "python",
   "nbconvert_exporter": "python",
   "pygments_lexer": "ipython3",
   "version": "3.9.2"
  },
  "orig_nbformat": 4,
  "vscode": {
   "interpreter": {
    "hash": "de762dcf16f62adbfb3d5a9198a674f1246b04df5359c4df88d3b0ca00d98a39"
   }
  }
 },
 "nbformat": 4,
 "nbformat_minor": 2
}
