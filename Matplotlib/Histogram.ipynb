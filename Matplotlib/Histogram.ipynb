{
 "cells": [
  {
   "cell_type": "markdown",
   "metadata": {},
   "source": [
    "# Histogram\n",
    "- plt.hist()\n",
    "- Creating dummmy Data using Normal Distribution"
   ]
  },
  {
   "cell_type": "code",
   "execution_count": 1,
   "metadata": {},
   "outputs": [],
   "source": [
    "import matplotlib.pyplot as plt\n",
    "import numpy as np"
   ]
  },
  {
   "cell_type": "code",
   "execution_count": 4,
   "metadata": {},
   "outputs": [],
   "source": [
    "x_snd=np.random.randn(500)"
   ]
  },
  {
   "cell_type": "code",
   "execution_count": 9,
   "metadata": {},
   "outputs": [],
   "source": [
    "maths_mu=70\n",
    "maths_sig=8\n",
    "maths_marks=np.round(x_snd*maths_sig+maths_mu)"
   ]
  },
  {
   "cell_type": "code",
   "execution_count": 10,
   "metadata": {},
   "outputs": [
    {
     "data": {
      "text/plain": [
       "array([60., 53., 78., 77., 72., 70., 75., 81., 83., 95., 61., 60., 57.,\n",
       "       74., 64., 59., 55., 71., 64., 57., 69., 74., 63., 60., 85., 74.,\n",
       "       77., 67., 66., 72., 69., 75., 70., 53., 70., 64., 75., 59., 64.,\n",
       "       77., 69., 58., 77., 68., 73., 77., 73., 70., 70., 68., 72., 71.,\n",
       "       78., 69., 71., 91., 72., 64., 83., 61., 65., 72., 68., 60., 82.,\n",
       "       66., 63., 59., 63., 76., 84., 64., 69., 75., 74., 64., 69., 74.,\n",
       "       70., 69., 78., 60., 64., 58., 60., 63., 66., 80., 71., 75., 66.,\n",
       "       76., 74., 73., 66., 71., 72., 78., 85., 85., 67., 72., 73., 64.,\n",
       "       73., 94., 75., 63., 52., 91., 62., 80., 73., 66., 49., 74., 71.,\n",
       "       69., 62., 72., 81., 67., 63., 61., 76., 77., 77., 75., 72., 66.,\n",
       "       72., 65., 61., 58., 63., 72., 81., 68., 65., 74., 74., 71., 62.,\n",
       "       80., 85., 80., 73., 78., 77., 71., 79., 69., 88., 80., 72., 64.,\n",
       "       69., 82., 83., 65., 84., 77., 74., 52., 71., 63., 74., 60., 81.,\n",
       "       62., 71., 66., 71., 70., 56., 80., 73., 75., 89., 67., 56., 72.,\n",
       "       74., 61., 72., 71., 69., 76., 71., 79., 66., 60., 83., 56., 70.,\n",
       "       64., 69., 68., 76., 78., 56., 68., 56., 71., 86., 61., 79., 80.,\n",
       "       68., 65., 76., 83., 69., 64., 60., 68., 83., 67., 69., 68., 54.,\n",
       "       83., 65., 77., 68., 72., 70., 77., 59., 73., 72., 82., 60., 72.,\n",
       "       74., 79., 64., 47., 75., 69., 73., 73., 78., 56., 67., 77., 73.,\n",
       "       76., 55., 62., 81., 74., 57., 72., 71., 84., 76., 70., 55., 57.,\n",
       "       79., 52., 85., 73., 68., 68., 73., 60., 71., 67., 72., 59., 78.,\n",
       "       75., 63., 74., 73., 88., 66., 63., 70., 82., 68., 71., 79., 70.,\n",
       "       71., 71., 65., 67., 65., 67., 46., 64., 69., 54., 82., 78., 71.,\n",
       "       79., 78., 73., 49., 71., 71., 67., 74., 80., 82., 69., 72., 70.,\n",
       "       63., 61., 67., 76., 58., 76., 73., 73., 68., 49., 72., 52., 63.,\n",
       "       64., 62., 71., 57., 73., 51., 68., 69., 74., 70., 72., 79., 63.,\n",
       "       77., 72., 64., 85., 67., 78., 82., 74., 72., 53., 81., 76., 93.,\n",
       "       56., 78., 79., 75., 76., 66., 76., 70., 67., 63., 83., 73., 65.,\n",
       "       60., 79., 67., 61., 76., 75., 69., 74., 70., 63., 63., 84., 68.,\n",
       "       64., 89., 86., 78., 70., 72., 59., 66., 68., 78., 71., 59., 75.,\n",
       "       66., 76., 70., 70., 70., 61., 65., 69., 70., 56., 66., 65., 66.,\n",
       "       82., 74., 69., 59., 53., 54., 62., 88., 69., 67., 57., 63., 72.,\n",
       "       80., 68., 73., 68., 60., 72., 76., 77., 79., 82., 66., 66., 62.,\n",
       "       69., 69., 76., 65., 51., 70., 54., 72., 64., 66., 80., 82., 64.,\n",
       "       67., 67., 75., 72., 79., 74., 68., 79., 68., 71., 70., 62., 73.,\n",
       "       65., 70., 66., 60., 52., 53., 66., 66., 78., 70., 73., 57., 78.,\n",
       "       77., 77., 69., 72., 79., 69., 65., 77., 77., 64., 61., 77., 69.,\n",
       "       71., 68., 67., 67., 74., 65., 67., 65., 67., 74., 82., 76., 65.,\n",
       "       70., 77., 63., 82., 71., 66.])"
      ]
     },
     "execution_count": 10,
     "metadata": {},
     "output_type": "execute_result"
    }
   ],
   "source": [
    "maths_marks"
   ]
  },
  {
   "cell_type": "code",
   "execution_count": 14,
   "metadata": {},
   "outputs": [
    {
     "data": {
      "image/png": "[encoded data removed]",
      "text/plain": [
       "<Figure size 432x288 with 1 Axes>"
      ]
     },
     "metadata": {
      "needs_background": "light"
     },
     "output_type": "display_data"
    }
   ],
   "source": [
    "plt.hist(maths_marks,bins=20)\n",
    "plt.show()"
   ]
  },
  {
   "cell_type": "code",
   "execution_count": 15,
   "metadata": {},
   "outputs": [
    {
     "data": {
      "text/plain": [
       "46.0"
      ]
     },
     "execution_count": 15,
     "metadata": {},
     "output_type": "execute_result"
    }
   ],
   "source": [
    "maths_marks.min()"
   ]
  },
  {
   "cell_type": "code",
   "execution_count": 16,
   "metadata": {},
   "outputs": [
    {
     "data": {
      "text/plain": [
       "95.0"
      ]
     },
     "execution_count": 16,
     "metadata": {},
     "output_type": "execute_result"
    }
   ],
   "source": [
    "maths_marks.max()"
   ]
  },
  {
   "cell_type": "code",
   "execution_count": 17,
   "metadata": {},
   "outputs": [
    {
     "data": {
      "text/plain": [
       "8.28177179110847"
      ]
     },
     "execution_count": 17,
     "metadata": {},
     "output_type": "execute_result"
    }
   ],
   "source": [
    "maths_marks.std()"
   ]
  },
  {
   "cell_type": "code",
   "execution_count": 18,
   "metadata": {},
   "outputs": [
    {
     "data": {
      "text/plain": [
       "array([60., 53., 78., 77., 72., 70., 75., 81., 83., 95., 61., 60., 57.,\n",
       "       74., 64., 59., 55., 71., 64., 57., 69., 74., 63., 60., 85., 74.,\n",
       "       77., 67., 66., 72., 69., 75., 70., 53., 70., 64., 75., 59., 64.,\n",
       "       77., 69., 58., 77., 68., 73., 77., 73., 70., 70., 68., 72., 71.,\n",
       "       78., 69., 71., 91., 72., 64., 83., 61., 65., 72., 68., 60., 82.,\n",
       "       66., 63., 59., 63., 76., 84., 64., 69., 75., 74., 64., 69., 74.,\n",
       "       70., 69., 78., 60., 64., 58., 60., 63., 66., 80., 71., 75., 66.,\n",
       "       76., 74., 73., 66., 71., 72., 78., 85., 85., 67., 72., 73., 64.,\n",
       "       73., 94., 75., 63., 52., 91., 62., 80., 73., 66., 49., 74., 71.,\n",
       "       69., 62., 72., 81., 67., 63., 61., 76., 77., 77., 75., 72., 66.,\n",
       "       72., 65., 61., 58., 63., 72., 81., 68., 65., 74., 74., 71., 62.,\n",
       "       80., 85., 80., 73., 78., 77., 71., 79., 69., 88., 80., 72., 64.,\n",
       "       69., 82., 83., 65., 84., 77., 74., 52., 71., 63., 74., 60., 81.,\n",
       "       62., 71., 66., 71., 70., 56., 80., 73., 75., 89., 67., 56., 72.,\n",
       "       74., 61., 72., 71., 69., 76., 71., 79., 66., 60., 83., 56., 70.,\n",
       "       64., 69., 68., 76., 78., 56., 68., 56., 71., 86., 61., 79., 80.,\n",
       "       68., 65., 76., 83., 69., 64., 60., 68., 83., 67., 69., 68., 54.,\n",
       "       83., 65., 77., 68., 72., 70., 77., 59., 73., 72., 82., 60., 72.,\n",
       "       74., 79., 64., 47., 75., 69., 73., 73., 78., 56., 67., 77., 73.,\n",
       "       76., 55., 62., 81., 74., 57., 72., 71., 84., 76., 70., 55., 57.,\n",
       "       79., 52., 85., 73., 68., 68., 73., 60., 71., 67., 72., 59., 78.,\n",
       "       75., 63., 74., 73., 88., 66., 63., 70., 82., 68., 71., 79., 70.,\n",
       "       71., 71., 65., 67., 65., 67., 46., 64., 69., 54., 82., 78., 71.,\n",
       "       79., 78., 73., 49., 71., 71., 67., 74., 80., 82., 69., 72., 70.,\n",
       "       63., 61., 67., 76., 58., 76., 73., 73., 68., 49., 72., 52., 63.,\n",
       "       64., 62., 71., 57., 73., 51., 68., 69., 74., 70., 72., 79., 63.,\n",
       "       77., 72., 64., 85., 67., 78., 82., 74., 72., 53., 81., 76., 93.,\n",
       "       56., 78., 79., 75., 76., 66., 76., 70., 67., 63., 83., 73., 65.,\n",
       "       60., 79., 67., 61., 76., 75., 69., 74., 70., 63., 63., 84., 68.,\n",
       "       64., 89., 86., 78., 70., 72., 59., 66., 68., 78., 71., 59., 75.,\n",
       "       66., 76., 70., 70., 70., 61., 65., 69., 70., 56., 66., 65., 66.,\n",
       "       82., 74., 69., 59., 53., 54., 62., 88., 69., 67., 57., 63., 72.,\n",
       "       80., 68., 73., 68., 60., 72., 76., 77., 79., 82., 66., 66., 62.,\n",
       "       69., 69., 76., 65., 51., 70., 54., 72., 64., 66., 80., 82., 64.,\n",
       "       67., 67., 75., 72., 79., 74., 68., 79., 68., 71., 70., 62., 73.,\n",
       "       65., 70., 66., 60., 52., 53., 66., 66., 78., 70., 73., 57., 78.,\n",
       "       77., 77., 69., 72., 79., 69., 65., 77., 77., 64., 61., 77., 69.,\n",
       "       71., 68., 67., 67., 74., 65., 67., 65., 67., 74., 82., 76., 65.,\n",
       "       70., 77., 63., 82., 71., 66.])"
      ]
     },
     "execution_count": 18,
     "metadata": {},
     "output_type": "execute_result"
    }
   ],
   "source": [
    "maths_marks"
   ]
  }
 ],
 "metadata": {
  "kernelspec": {
   "display_name": "Python 3.9.12 ('base')",
   "language": "python",
   "name": "python3"
  },
  "language_info": {
   "codemirror_mode": {
    "name": "ipython",
    "version": 3
   },
   "file_extension": ".py",
   "mimetype": "text/x-python",
   "name": "python",
   "nbconvert_exporter": "python",
   "pygments_lexer": "ipython3",
   "version": "3.9.12"
  },
  "orig_nbformat": 4,
  "vscode": {
   "interpreter": {
    "hash": "cac88281fd8e9dedb054d17176b1e171e7fc2f03a42270ed4f253a4a50e910d2"
   }
  }
 },
 "nbformat": 4,
 "nbformat_minor": 2
}
