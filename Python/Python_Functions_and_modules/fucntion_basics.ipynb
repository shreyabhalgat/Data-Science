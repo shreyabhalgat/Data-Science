{
 "cells": [
  {
   "cell_type": "markdown",
   "metadata": {},
   "source": [
    "# Fucntion\n",
    "\n",
    "- Helps to achieve Reusablity of code\n",
    "- Avoid Repeatation of Code\n",
    "- More Organized and modular code\n",
    "\n",
    "There are two types of fucntions\n",
    "1.Built in\n",
    "2.User Defined\n",
    "\n",
    "Syntax:\n",
    "\n",
    "def fucntion_name(parameter):\n",
    "\n",
    "     statements"
   ]
  },
  {
   "cell_type": "code",
   "execution_count": 1,
   "metadata": {},
   "outputs": [],
   "source": [
    "#function Defination\n",
    "\n",
    "def greetings(name):\n",
    "    \n",
    "    print(\"Good Morning\",name)"
   ]
  },
  {
   "cell_type": "code",
   "execution_count": 2,
   "metadata": {},
   "outputs": [
    {
     "name": "stdout",
     "output_type": "stream",
     "text": [
      "Good Morning Shreya\n"
     ]
    }
   ],
   "source": [
    "greetings(\"Shreya\")"
   ]
  },
  {
   "cell_type": "code",
   "execution_count": 4,
   "metadata": {},
   "outputs": [
    {
     "name": "stdout",
     "output_type": "stream",
     "text": [
      "80000005\n"
     ]
    }
   ],
   "source": [
    "def add(a,b):\n",
    "    return (a+b)\n",
    "\n",
    "c=add(80000000,5)\n",
    "print(c)"
   ]
  },
  {
   "cell_type": "code",
   "execution_count": 5,
   "metadata": {},
   "outputs": [],
   "source": [
    "def product(lst):\n",
    "    s=1\n",
    "    for i in lst:\n",
    "        s*i\n",
    "    return s"
   ]
  },
  {
   "cell_type": "code",
   "execution_count": 9,
   "metadata": {},
   "outputs": [
    {
     "name": "stdout",
     "output_type": "stream",
     "text": [
      "1\n"
     ]
    }
   ],
   "source": [
    "res=product( [7] )\n",
    "print(res)"
   ]
  },
  {
   "cell_type": "markdown",
   "metadata": {},
   "source": [
    "Note- fucntion can return multiple values in form of tuple"
   ]
  },
  {
   "cell_type": "code",
   "execution_count": 10,
   "metadata": {},
   "outputs": [
    {
     "data": {
      "text/plain": [
       "(18, 12, 45, 5.0)"
      ]
     },
     "execution_count": 10,
     "metadata": {},
     "output_type": "execute_result"
    }
   ],
   "source": [
    "def calculator(a,b):\n",
    "    return(a+b,a-b,a*b,a/b)\n",
    "\n",
    "calculator(15,3)"
   ]
  },
  {
   "cell_type": "code",
   "execution_count": null,
   "metadata": {},
   "outputs": [],
   "source": []
  },
  {
   "cell_type": "code",
   "execution_count": null,
   "metadata": {},
   "outputs": [],
   "source": [
    "\n"
   ]
  },
  {
   "cell_type": "code",
   "execution_count": null,
   "metadata": {},
   "outputs": [],
   "source": []
  }
 ],
 "metadata": {
  "kernelspec": {
   "display_name": "Python 3.9.2 64-bit",
   "language": "python",
   "name": "python3"
  },
  "language_info": {
   "codemirror_mode": {
    "name": "ipython",
    "version": 3
   },
   "file_extension": ".py",
   "mimetype": "text/x-python",
   "name": "python",
   "nbconvert_exporter": "python",
   "pygments_lexer": "ipython3",
   "version": "3.9.2"
  },
  "orig_nbformat": 4,
  "vscode": {
   "interpreter": {
    "hash": "de762dcf16f62adbfb3d5a9198a674f1246b04df5359c4df88d3b0ca00d98a39"
   }
  }
 },
 "nbformat": 4,
 "nbformat_minor": 2
}
