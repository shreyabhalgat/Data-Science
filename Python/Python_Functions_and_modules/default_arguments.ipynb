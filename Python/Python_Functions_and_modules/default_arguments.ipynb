{
 "cells": [
  {
   "cell_type": "markdown",
   "metadata": {},
   "source": [
    "# Function Arguments\n",
    "\n",
    "- Argument vs parameter\n",
    "\n",
    "    - default argument\n",
    "    - arbitary arguments (args)\n",
    "    - keyword arguments (kwargs)\n",
    "\n",
    "\n",
    "    Default Parameters : Parameters that have some default values.They are optional Parameter"
   ]
  },
  {
   "cell_type": "code",
   "execution_count": 2,
   "metadata": {},
   "outputs": [],
   "source": [
    "def intro(name,nationality):\n",
    "    print(\"Hello\",name)\n",
    "    print(\"I am\",nationality)"
   ]
  },
  {
   "cell_type": "code",
   "execution_count": 3,
   "metadata": {},
   "outputs": [
    {
     "ename": "TypeError",
     "evalue": "intro() missing 1 required positional argument: 'nationality'",
     "output_type": "error",
     "traceback": [
      "\u001b[1;31m---------------------------------------------------------------------------\u001b[0m",
      "\u001b[1;31mTypeError\u001b[0m                                 Traceback (most recent call last)",
      "\u001b[1;32mUntitled-1.ipynb Cell 3\u001b[0m in \u001b[0;36m<cell line: 3>\u001b[1;34m()\u001b[0m\n\u001b[0;32m      <a href='vscode-notebook-cell:Untitled-1.ipynb?jupyter-notebook#ch0000003untitled?line=0'>1</a>\u001b[0m \u001b[39m#without giving the nationality it still works\u001b[39;00m\n\u001b[1;32m----> <a href='vscode-notebook-cell:Untitled-1.ipynb?jupyter-notebook#ch0000003untitled?line=2'>3</a>\u001b[0m intro(\u001b[39m\"\u001b[39;49m\u001b[39mShreya\u001b[39;49m\u001b[39m\"\u001b[39;49m)\n",
      "\u001b[1;31mTypeError\u001b[0m: intro() missing 1 required positional argument: 'nationality'"
     ]
    }
   ],
   "source": [
    "#without giving the nationality it won't works\n",
    "\n",
    "intro(\"Shreya\")"
   ]
  },
  {
   "cell_type": "code",
   "execution_count": null,
   "metadata": {},
   "outputs": [],
   "source": [
    "#if you give default paramaters there is no need of giving \n",
    "#parameters\n",
    "\n",
    "#if you provide argument it will replace the default one"
   ]
  }
 ],
 "metadata": {
  "kernelspec": {
   "display_name": "Python 3.9.2 64-bit",
   "language": "python",
   "name": "python3"
  },
  "language_info": {
   "codemirror_mode": {
    "name": "ipython",
    "version": 3
   },
   "file_extension": ".py",
   "mimetype": "text/x-python",
   "name": "python",
   "nbconvert_exporter": "python",
   "pygments_lexer": "ipython3",
   "version": "3.9.2"
  },
  "orig_nbformat": 4,
  "vscode": {
   "interpreter": {
    "hash": "de762dcf16f62adbfb3d5a9198a674f1246b04df5359c4df88d3b0ca00d98a39"
   }
  }
 },
 "nbformat": 4,
 "nbformat_minor": 2
}
