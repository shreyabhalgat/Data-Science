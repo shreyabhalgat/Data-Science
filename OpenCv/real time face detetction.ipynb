{
 "cells": [
  {
   "cell_type": "code",
   "execution_count": null,
   "metadata": {},
   "outputs": [],
   "source": []
  }
 ],
 "metadata": {
  "kernelspec": {
   "display_name": "Python 3.9.2 64-bit",
   "language": "python",
   "name": "python3"
  },
  "language_info": {
   "name": "python",
   "version": "3.9.2"
  },
  "orig_nbformat": 4,
  "vscode": {
   "interpreter": {
    "hash": "de762dcf16f62adbfb3d5a9198a674f1246b04df5359c4df88d3b0ca00d98a39"
   }
  }
 },
 "nbformat": 4,
 "nbformat_minor": 2
}
